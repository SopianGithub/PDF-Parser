{
 "cells": [
  {
   "cell_type": "code",
   "execution_count": 15,
   "id": "3bedc3bc-6425-4064-ab8c-b61c414c0d44",
   "metadata": {},
   "outputs": [
    {
     "name": "stdout",
     "output_type": "stream",
     "text": [
      "[Errno 2] No such file or directory: 'java -jar \"/Users/yayansopian/miniforge3/envs/cv/lib/python3.11/site-packages/pdf2jpg/pdf2jpg.jar\" -i \"Contents.pdf\" -o \"/\" -d 300 -p 0'\n"
     ]
    },
    {
     "data": {
      "text/plain": [
       "False"
      ]
     },
     "execution_count": 15,
     "metadata": {},
     "output_type": "execute_result"
    }
   ],
   "source": [
    "from pdf2jpg import pdf2jpg\n",
    "\n",
    "result = pdf2jpg.convert_pdf2jpg(inputpath=\"samples/Contents.pdf\", outputpath=\"/\", dpi=300, pages=\"0\")\n",
    "\n",
    "result"
   ]
  },
  {
   "cell_type": "code",
   "execution_count": null,
   "id": "46708f36-6c52-4d92-ac53-c111c5b076c3",
   "metadata": {},
   "outputs": [],
   "source": []
  }
 ],
 "metadata": {
  "kernelspec": {
   "display_name": "Python 3 (ipykernel)",
   "language": "python",
   "name": "python3"
  },
  "language_info": {
   "codemirror_mode": {
    "name": "ipython",
    "version": 3
   },
   "file_extension": ".py",
   "mimetype": "text/x-python",
   "name": "python",
   "nbconvert_exporter": "python",
   "pygments_lexer": "ipython3",
   "version": "3.11.4"
  }
 },
 "nbformat": 4,
 "nbformat_minor": 5
}

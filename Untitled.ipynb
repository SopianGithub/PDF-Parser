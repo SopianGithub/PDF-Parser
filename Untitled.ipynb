{
 "cells": [
  {
   "cell_type": "code",
   "execution_count": 32,
   "id": "3bedc3bc-6425-4064-ab8c-b61c414c0d44",
   "metadata": {},
   "outputs": [
    {
     "name": "stdout",
     "output_type": "stream",
     "text": [
      "[Errno 2] No such file or directory: 'java -jar \"/Users/yayansopian/miniforge3/envs/cv/lib/python3.11/site-packages/pdf2jpg/pdf2jpg.jar\" -i \"samples/Contents.pdf\" -o \"/samples\" -d 300 -p 1'\n",
      "False\n"
     ]
    }
   ],
   "source": [
    "from pdf2jpg import pdf2jpg\n",
    "\n",
    "inputpath = r\"samples/Contents.pdf\"\n",
    "outputpath = r\"/samples\"\n",
    "# To convert single page\n",
    "result = pdf2jpg.convert_pdf2jpg(inputpath, outputpath, dpi=300, pages=\"1\")\n",
    "print(result)\n"
   ]
  },
  {
   "cell_type": "code",
   "execution_count": 25,
   "id": "46708f36-6c52-4d92-ac53-c111c5b076c3",
   "metadata": {},
   "outputs": [
    {
     "name": "stdout",
     "output_type": "stream",
     "text": [
      "File exist\n"
     ]
    }
   ],
   "source": [
    "import os.path\n",
    "\n",
    "if os.path.isfile('samples/Contents.pdf'):\n",
    "    print (\"File exist\")\n",
    "else:\n",
    "    print (\"File not exist\")"
   ]
  },
  {
   "cell_type": "code",
   "execution_count": 33,
   "id": "38ce7b90-7102-40e2-962a-2310d75d78a5",
   "metadata": {},
   "outputs": [],
   "source": [
    "\n",
    "from pdf2image import convert_from_path\n",
    "from tkinter import *\n",
    "from tkinter import messagebox"
   ]
  },
  {
   "cell_type": "code",
   "execution_count": null,
   "id": "016c1035-373d-4978-90a2-4c4ae149e683",
   "metadata": {},
   "outputs": [],
   "source": []
  }
 ],
 "metadata": {
  "kernelspec": {
   "display_name": "Python 3 (ipykernel)",
   "language": "python",
   "name": "python3"
  },
  "language_info": {
   "codemirror_mode": {
    "name": "ipython",
    "version": 3
   },
   "file_extension": ".py",
   "mimetype": "text/x-python",
   "name": "python",
   "nbconvert_exporter": "python",
   "pygments_lexer": "ipython3",
   "version": "3.11.4"
  }
 },
 "nbformat": 4,
 "nbformat_minor": 5
}
